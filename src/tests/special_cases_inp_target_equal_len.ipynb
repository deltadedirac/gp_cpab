{
 "cells": [
  {
   "cell_type": "code",
   "execution_count": 1,
   "metadata": {},
   "outputs": [
    {
     "name": "stderr",
     "output_type": "stream",
     "text": [
      "/opt/conda/lib/python3.8/site-packages/tqdm/auto.py:22: TqdmWarning: IProgress not found. Please update jupyter and ipywidgets. See https://ipywidgets.readthedocs.io/en/stable/user_install.html\n",
      "  from .autonotebook import tqdm as notebook_tqdm\n"
     ]
    },
    {
     "data": {
      "text/plain": [
       "<Figure size 640x480 with 0 Axes>"
      ]
     },
     "metadata": {},
     "output_type": "display_data"
    },
    {
     "data": {
      "text/plain": [
       "<Figure size 640x480 with 0 Axes>"
      ]
     },
     "metadata": {},
     "output_type": "display_data"
    },
    {
     "data": {
      "text/plain": [
       "<Figure size 640x480 with 0 Axes>"
      ]
     },
     "metadata": {},
     "output_type": "display_data"
    }
   ],
   "source": [
    "import gc,sys\n",
    "import pdb\n",
    "\n",
    "#pdb.set_trace()\n",
    "from tqdm import tqdm\n",
    "\n",
    "import os, mlflow, mlflow.pytorch\n",
    "import __init__\n",
    "\n",
    "from transformation.gp_cpab import gp_cpab\n",
    "from transformation.configManager import configManager\n",
    "from extra.utilities import *\n",
    "from extra.dataLoaderDiffeo import *\n",
    "from extra.LossFunctionsAlternatives import LossFunctionsAlternatives\n",
    "from extra.Automatic_Report import Generate_Automatic_Report\n",
    "from transformation.libcpab.libcpab.pytorch.interpolation import interpolate1D"
   ]
  },
  {
   "cell_type": "code",
   "execution_count": 11,
   "metadata": {},
   "outputs": [],
   "source": [
    "import pandas as pd\n",
    "from extra.logomakers import logomaker_plots \n",
    "\n",
    "def plot_logos_probs(x1_trans, alphabets, pathfolder, path):  \n",
    "    #from logomakers import logomaker_plots  \n",
    "\n",
    "    alphabets_logo = [ i if i!='-' else 'X' for i in alphabets] \n",
    "    x1_trans_logo_input = df_construction_aas([ x1_trans.detach().numpy() ]*500, x1_trans.shape, alphabets_logo)\n",
    "    best = logomaker_plots.plotlogos(x1_trans_logo_input[x1_trans_logo_input.columns.tolist()],pathfolder,'transformed_'+path)\n",
    "\n",
    "    return best"
   ]
  },
  {
   "cell_type": "code",
   "execution_count": 3,
   "metadata": {},
   "outputs": [],
   "source": [
    "def training_theta_optima(path_preexist_model, theta_est, maxiter, optimizer, T,x1, ref_msa, modeflag, msa_num, loss_vals, loss_function, inverse):\n",
    "\n",
    " \n",
    "    if os.path.isfile(path_preexist_model):\n",
    "        print (\"Loading Deformation Model\")\n",
    "        theta_est = torch.load(path_preexist_model)\n",
    "    else:\n",
    "        pb = tqdm(desc='Alignment of samples', unit='iters', total=maxiter)\n",
    "        for i in range(maxiter):\n",
    "            optimizer.zero_grad()\n",
    "            #pdb.set_trace()\n",
    "\n",
    "            if inverse == True:\n",
    "                opt_est = -theta_est\n",
    "\n",
    "            if T.interpolation_type == 'linear':\n",
    "                x1_trans, _,  forw_per = T.spatial_transformation(x1, ref_msa, opt_est, modeflag)\n",
    "\n",
    "                loss = loss_function(method = 'Soft_Label_KLD', input = x1_trans, target = ref_msa, forw_per=forw_per)\n",
    "\n",
    "            else:\n",
    "                #pdb.set_trace()\n",
    "                x1_trans, sampled_data, forw_per = T.spatial_transformation(x1, ref_msa, opt_est, modeflag)\n",
    "\n",
    "                loss = loss_function(method = 'JSD', input = x1_trans, target = ref_msa, forw_per=forw_per)\n",
    "\n",
    "\n",
    "            loss_vals.append(loss.item())\n",
    "            loss.backward()\n",
    "            optimizer.step()\n",
    "\n",
    "\n",
    "            gc.collect()\n",
    "            torch.cuda.empty_cache()\n",
    "            #torch.save(theta_est, path_preexist_model)\n",
    "\n",
    "\n",
    "\n",
    "            pb.update()\n",
    "            pb.set_postfix({'loss': str(loss.item())})\n",
    "\n",
    "            msa_num.append(x1_trans.detach().numpy().squeeze())\n",
    "\n",
    "\n",
    "        pb.close()\n",
    "        shapes = ref_msa.squeeze().shape\n",
    "        msa_num = np.vstack(msa_num).reshape(-1, shapes[0], shapes[1])\n",
    "\n",
    "\n",
    "    return theta_est\n",
    "\n",
    "def get_interpolated_data(data, T, outsize):\n",
    "    data1=data.unsqueeze(0)\n",
    "    grid = T.uniform_meshgrid(outsize).repeat(data1.shape[0],1,1)\n",
    "    out = interpolate1D(data1,grid,outsize)\n",
    "    return out.squeeze(0)\n"
   ]
  },
  {
   "cell_type": "code",
   "execution_count": 4,
   "metadata": {},
   "outputs": [
    {
     "name": "stdout",
     "output_type": "stream",
     "text": [
      "None\n",
      "tmp\n"
     ]
    },
    {
     "name": "stderr",
     "output_type": "stream",
     "text": [
      "/workspaces/Explicit_Disentanglement_Proteins/src/gp_cpab/src/transformation/libcpab/libcpab/pytorch/functions.py:26: UserWarning: To copy construct from a tensor, it is recommended to use sourceTensor.clone().detach() or sourceTensor.clone().detach().requires_grad_(True), rather than torch.tensor(sourceTensor).\n",
      "  return torch.tensor(x, dtype=dtype, device=device)\n",
      "Alignment of samples: 100%|██████████| 500/500 [02:24<00:00,  3.46iters/s, loss=-0.5108833312988281] "
     ]
    },
    {
     "name": "stdout",
     "output_type": "stream",
     "text": [
      "reverse transformed CPAB using GP: \n",
      "\n",
      " tensor([[[0.4998, 0.5002],\n",
      "         [0.1556, 0.8444],\n",
      "         [0.1620, 0.8380],\n",
      "         [0.5025, 0.4975]]], grad_fn=<PermuteBackward>)\n"
     ]
    },
    {
     "name": "stderr",
     "output_type": "stream",
     "text": [
      "\n"
     ]
    },
    {
     "name": "stdout",
     "output_type": "stream",
     "text": [
      "direct transformed CPAB using linear with theta_GP: \n",
      "\n",
      " tensor([[[0.3989, 0.6011],\n",
      "         [0.1561, 0.8439],\n",
      "         [0.1969, 0.8031],\n",
      "         [0.5025, 0.4975]]], grad_fn=<PermuteBackward>)\n",
      "\n",
      "\n",
      "\n",
      " Loss Function by using GPs = tensor(0.2759, grad_fn=<MeanBackward0>)\n"
     ]
    }
   ],
   "source": [
    "print(__package__)\n",
    "'''---------------------------------------------------------'''\n",
    "std = configManager(\"../../configs/setup2.yaml\")\n",
    "device = std.parserinfo('*/Device')\n",
    "modeflag = std.parserinfo('*/Modeflag')\n",
    "window_grid = std.parserinfo('*/Window_grid')\n",
    "channels = std.parserinfo('*/Channels')\n",
    "option = std.parserinfo('*/Option')\n",
    "\n",
    "\n",
    "path = std.parserinfo('*/PathOrig4')\n",
    "path_MSA_test = std.parserinfo('*/PathMSAref4t')#PathMSAref4t\n",
    "path_preexist_model = std.parserinfo('*/Path_Preexist_Modellinear4')\n",
    "path_preexist_modelGP = std.parserinfo('*/Path_Preexist_ModelGP4')\n",
    "\n",
    "pathX123 = std.parserinfo('*/Path_Automated_ReportFolder')\n",
    "indexlogolinear = '_LI_3aa9g_padd'\n",
    "indexlogoGP = '_GP_3aa9g_padd'\n",
    "indexoutputT = 'debugging_cpab_domains.txt' #'results_3aa_Inverse_direct.txt'\n",
    "\n",
    "# Reference Information - how the alignment should looks like\n",
    "alignment, ref_msa, alphabets, c2i, i2c, i2i,seqchar = read_clustal_align_output(path_MSA_test)\n",
    "\n",
    "\n",
    "'''---------------------------------------------------------'''\n",
    "'''---------------------------------------------------------'''\n",
    "'''---------------------------------------------------------'''\n",
    "# Raw Sequences, to see if we can align the sequences somehow\n",
    "dataset_msa = datasetLoader(pathBLAT_data = path, alphabet = alphabets, enable_variable_length=True)\n",
    "\n",
    "x1 = dataset_msa.prot_space\n",
    "padd_replication = ref_msa.shape[1] - x1.shape[1]\n",
    "if padd_replication!=0:\n",
    "    padd = torch.ones(1,padd_replication,4)*0.25; x1 = torch.cat(( x1 ,padd),1)\n",
    "else:\n",
    "    padd = torch.tensor([])\n",
    "\n",
    "# reconvert the dimensions of reference and input datasets\n",
    "if modeflag == '2D':\n",
    "  # convert into [#channels, #width, #height, #channels]\n",
    "  x1 = x1.reshape(x1.shape[0], x1.shape[1], 1, x1.shape[2])\n",
    "  ref_msa = ref_msa.reshape(ref_msa.shape[0], ref_msa.shape[1], 1, ref_msa.shape[2])\n",
    "  ndim = [window_grid,1]\n",
    "else:\n",
    "  ndim = [window_grid]\n",
    "\n",
    "'''Transformations for Reference Alignment'''\n",
    "'''-----------------------------------------------------------------------------------------------'''\n",
    "'''      JUST FOR CAPTURING DEFORMATION PATTERNS ALONG THE CPAB, HOW IT STARS AND IT ENDS:        '''\n",
    "'''-----------------------------------------------------------------------------------------------'''\n",
    "''' NEEDS TO BE IN ZERO_BOUNDARY IN FALSE FOR GETTING PROPER RESULTS IN ALIGNMENTS'''\n",
    "T = gp_cpab(ndim, std, backend='pytorch', device=device, zero_boundary=False,\n",
    "                                          volume_perservation=False, override=False)\n",
    "\n",
    "T.interpolation_type = 'linear'\n",
    "\n",
    "x1 = T.backend.to(x1.clone().detach(), device=device)\n",
    "ref_msa = T.backend.to(ref_msa.clone().detach(), device=device)\n",
    "\n",
    "''' LIKELIHOOD DEFINITIONS:'''\n",
    "\n",
    "if option == 'multitask':\n",
    "    #T.get_interpolation_inductive_points(x1, x1.float()) \n",
    "    \n",
    "    outsize = (ref_msa.shape[1], ref_msa.shape[2])\n",
    "    padded_idx = [*range(x1.shape[1],ref_msa.shape[1])]\n",
    "    non_padded_idx = set(range(0, outsize[0])) - set(padded_idx) \n",
    "    non_padded_idx = [*non_padded_idx]\n",
    "\n",
    "    ''' TEMP SOLUTION FOR THE EXPERIMENT WITH THE MODIFICATIONS'''\n",
    "    '''---------------------------------------------------------------------------'''\n",
    "    padded_idx = non_padded_idx[(ref_msa.shape[1] - padd_replication):]; non_padded_idx =  non_padded_idx[:(ref_msa.shape[1] - padd_replication)]\n",
    "    '''---------------------------------------------------------------------------'''\n",
    "\n",
    "    padded_idx = [ padded_idx ]; non_padded_idx = [ non_padded_idx ]\n",
    "\n",
    "    T.get_interpolation_inductive_points(x1, x1.float(), \n",
    "                                        outsize = outsize, \n",
    "                                        padded_idx = padded_idx, \n",
    "                                        non_padded_idx = non_padded_idx,\n",
    "                                        #separation_size_grid = T.params.inc[0],\n",
    "                                        padding_option = 'padding_weights'   )\n",
    "                                        #padding_option = 'none'   )\n",
    "\n",
    "    \n",
    "    \n",
    "\n",
    "'''\n",
    "-------------------------------------------------------------------------------------------\n",
    "-------------------------------------------------------------------------------------------\n",
    "-------------------------------------------------------------------------------------------\n",
    "'''\n",
    "\n",
    "''' FOR CASES 1,2,3,4 GAPS WITH INVERSE'''\n",
    "\n",
    "#theta_ref = torch.autograd.Variable(torch.tensor([[-0.3,0.0011522,0.0018782, 0.2456, -0.3125]], requires_grad=True), requires_grad=True)\n",
    "#theta_ref  = get_interpolated_data(theta_ref, T, (T.params.nC+1,T.params.nC+1))\n",
    "''' FOR CASES 10 GAPS WITH INVERSE'''\n",
    "#theta_ref = torch.autograd.Variable(torch.tensor([[0.003,  -0.006, 0.003, 0.006,  -0.003]], requires_grad=True), requires_grad=True)\n",
    "\n",
    "'''\n",
    "-------------------------------------------------------------------------------------------\n",
    "-------------------------------------------------------------------------------------------\n",
    "-------------------------------------------------------------------------------------------\n",
    "\n",
    "'''\n",
    "\n",
    "theta_ref = torch.autograd.Variable(T.identity(1, epsilon=1e-6), requires_grad=True)\n",
    "theta_est = torch.autograd.Variable(theta_ref.clone(), requires_grad=True)\n",
    "theta_est_GP = torch.autograd.Variable(theta_ref.clone(), requires_grad=True)\n",
    "\n",
    "\n",
    "'''lr=0.01 is the best one so far for linear interpolation and gp'''\n",
    "lr = std.parserinfo('*/lr') \n",
    "wd = std.parserinfo('*/weight_decay')\n",
    "maxiter = std.parserinfo('*/maxiter')\n",
    "\n",
    "optimizer = torch.optim.AdamW([theta_est], lr=lr) #, weight_decay=wd)\n",
    "optimizerGP = torch.optim.AdamW([theta_est_GP], lr=lr)\n",
    "\n",
    "\n",
    "loss_function = LossFunctionsAlternatives()\n",
    "loss_function.get_dictionaries_to_mask_data(c2i, i2c, i2i)\n",
    "#pdb.set_trace()\n",
    "msa_num = []; loss_vals =[]\n",
    "msa_numGP = []; loss_valsgp =[]\n",
    "\n",
    "inverse = True\n",
    "\n",
    "\n",
    "\n",
    "'''\n",
    "T.interpolation_type = 'linear'\n",
    "theta_est = training_theta_optima(path_preexist_model, theta_est, maxiter, optimizer, T,x1, ref_msa, \n",
    "                                            modeflag, msa_num, loss_vals, loss_function, inverse = inverse)\n",
    "\n",
    "x1_trans1, _, forw_per = T.spatial_transformation(x1, ref_msa, -theta_est, modeflag)\n",
    "x1_trans1_dir,_, forw_per = T.spatial_transformation(x1_trans1, ref_msa, theta_est, modeflag)\n",
    "loss1 = loss_function(method = 'Soft_Label_KLD', input = x1_trans1, target = ref_msa, forw_per=forw_per)\n",
    "'''\n",
    "\n",
    "\n",
    "\n",
    "T.interpolation_type = 'GP'\n",
    "theta_est_GP = training_theta_optima(path_preexist_modelGP, theta_est_GP, maxiter, optimizerGP, T, x1, ref_msa, \n",
    "                                            modeflag, msa_numGP, loss_valsgp, loss_function, inverse = inverse)\n",
    "\n",
    "x1_trans3, sampled_data3, forw_per = T.spatial_transformation(x1, ref_msa, -theta_est_GP, modeflag)\n",
    "print(\"reverse transformed CPAB using GP: \\n\\n {0}\".format(x1_trans3))\n",
    "\n",
    "#T.setup='None'\n",
    "T.interpolation_type = 'linear'\n",
    "x1_trans3_dir, _, forw_per = T.spatial_transformation(x1_trans3, ref_msa, theta_est_GP, modeflag)\n",
    "print(\"direct transformed CPAB using linear with theta_GP: \\n\\n {0}\".format(x1_trans3_dir))\n",
    "\n",
    "\n",
    "loss3 = loss_function(method = 'Soft_Label_KLD', input = x1_trans3, target = ref_msa, forw_per=forw_per)\n",
    "\n",
    "print('\\n\\n\\n Loss Function by using GPs = '+ str(loss3) )\n"
   ]
  },
  {
   "cell_type": "code",
   "execution_count": null,
   "metadata": {},
   "outputs": [],
   "source": [
    "print(x1)\n",
    "print(ref_msa)\n",
    "\n",
    "print(x1_trans3)\n",
    "print(x1_trans3_dir)"
   ]
  },
  {
   "cell_type": "code",
   "execution_count": 17,
   "metadata": {},
   "outputs": [
    {
     "data": {
      "image/png": "[encoded data removed]",
      "text/plain": [
       "<Figure size 1000x500 with 1 Axes>"
      ]
     },
     "metadata": {},
     "output_type": "display_data"
    },
    {
     "data": {
      "text/plain": [
       "<AxesSubplot:>"
      ]
     },
     "execution_count": 17,
     "metadata": {},
     "output_type": "execute_result"
    },
    {
     "data": {
      "image/png": "[encoded data removed]",
      "text/plain": [
       "<Figure size 640x480 with 1 Axes>"
      ]
     },
     "metadata": {},
     "output_type": "display_data"
    }
   ],
   "source": [
    "plot_logos_probs(x1_trans3, alphabets, '../../Results', '_4aa_nopadd_1')"
   ]
  }
 ],
 "metadata": {
  "kernelspec": {
   "display_name": "Python 3.8.5 ('base')",
   "language": "python",
   "name": "python3"
  },
  "language_info": {
   "codemirror_mode": {
    "name": "ipython",
    "version": 3
   },
   "file_extension": ".py",
   "mimetype": "text/x-python",
   "name": "python",
   "nbconvert_exporter": "python",
   "pygments_lexer": "ipython3",
   "version": "3.8.13"
  },
  "orig_nbformat": 4,
  "vscode": {
   "interpreter": {
    "hash": "d4d1e4263499bec80672ea0156c357c1ee493ec2b1c70f0acce89fc37c4a6abe"
   }
  }
 },
 "nbformat": 4,
 "nbformat_minor": 2
}
